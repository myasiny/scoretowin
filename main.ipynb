{
 "cells": [
  {
   "cell_type": "markdown",
   "metadata": {},
   "source": [
    "# Score to Win"
   ]
  },
  {
   "cell_type": "markdown",
   "metadata": {},
   "source": [
    "It is a exploratory project which analyses relationship between average scores of players and number of games won by coaches. \n",
    "\n",
    "The dataset used in this projects was provided by the library of Istanbul Sehir University."
   ]
  },
  {
   "cell_type": "code",
   "execution_count": 1,
   "metadata": {},
   "outputs": [
    {
     "data": {
      "text/html": [
       "<div>\n",
       "<style scoped>\n",
       "    .dataframe tbody tr th:only-of-type {\n",
       "        vertical-align: middle;\n",
       "    }\n",
       "\n",
       "    .dataframe tbody tr th {\n",
       "        vertical-align: top;\n",
       "    }\n",
       "\n",
       "    .dataframe thead th {\n",
       "        text-align: right;\n",
       "    }\n",
       "</style>\n",
       "<table border=\"1\" class=\"dataframe\">\n",
       "  <thead>\n",
       "    <tr style=\"text-align: right;\">\n",
       "      <th></th>\n",
       "      <th>playerID</th>\n",
       "      <th>year</th>\n",
       "      <th>stint</th>\n",
       "      <th>tmID</th>\n",
       "      <th>lgID</th>\n",
       "      <th>GP</th>\n",
       "      <th>GS</th>\n",
       "      <th>minutes</th>\n",
       "      <th>points</th>\n",
       "      <th>oRebounds</th>\n",
       "      <th>...</th>\n",
       "      <th>PostBlocks</th>\n",
       "      <th>PostTurnovers</th>\n",
       "      <th>PostPF</th>\n",
       "      <th>PostfgAttempted</th>\n",
       "      <th>PostfgMade</th>\n",
       "      <th>PostftAttempted</th>\n",
       "      <th>PostftMade</th>\n",
       "      <th>PostthreeAttempted</th>\n",
       "      <th>PostthreeMade</th>\n",
       "      <th>note</th>\n",
       "    </tr>\n",
       "  </thead>\n",
       "  <tbody>\n",
       "    <tr>\n",
       "      <th>0</th>\n",
       "      <td>abramjo01</td>\n",
       "      <td>1946</td>\n",
       "      <td>1</td>\n",
       "      <td>PIT</td>\n",
       "      <td>NBA</td>\n",
       "      <td>47</td>\n",
       "      <td>0</td>\n",
       "      <td>0</td>\n",
       "      <td>527</td>\n",
       "      <td>0</td>\n",
       "      <td>...</td>\n",
       "      <td>0</td>\n",
       "      <td>0</td>\n",
       "      <td>0</td>\n",
       "      <td>0</td>\n",
       "      <td>0</td>\n",
       "      <td>0</td>\n",
       "      <td>0</td>\n",
       "      <td>0</td>\n",
       "      <td>0</td>\n",
       "      <td>NaN</td>\n",
       "    </tr>\n",
       "    <tr>\n",
       "      <th>1</th>\n",
       "      <td>aubucch01</td>\n",
       "      <td>1946</td>\n",
       "      <td>1</td>\n",
       "      <td>DTF</td>\n",
       "      <td>NBA</td>\n",
       "      <td>30</td>\n",
       "      <td>0</td>\n",
       "      <td>0</td>\n",
       "      <td>65</td>\n",
       "      <td>0</td>\n",
       "      <td>...</td>\n",
       "      <td>0</td>\n",
       "      <td>0</td>\n",
       "      <td>0</td>\n",
       "      <td>0</td>\n",
       "      <td>0</td>\n",
       "      <td>0</td>\n",
       "      <td>0</td>\n",
       "      <td>0</td>\n",
       "      <td>0</td>\n",
       "      <td>NaN</td>\n",
       "    </tr>\n",
       "    <tr>\n",
       "      <th>2</th>\n",
       "      <td>bakerno01</td>\n",
       "      <td>1946</td>\n",
       "      <td>1</td>\n",
       "      <td>CHS</td>\n",
       "      <td>NBA</td>\n",
       "      <td>4</td>\n",
       "      <td>0</td>\n",
       "      <td>0</td>\n",
       "      <td>0</td>\n",
       "      <td>0</td>\n",
       "      <td>...</td>\n",
       "      <td>0</td>\n",
       "      <td>0</td>\n",
       "      <td>0</td>\n",
       "      <td>0</td>\n",
       "      <td>0</td>\n",
       "      <td>0</td>\n",
       "      <td>0</td>\n",
       "      <td>0</td>\n",
       "      <td>0</td>\n",
       "      <td>NaN</td>\n",
       "    </tr>\n",
       "    <tr>\n",
       "      <th>3</th>\n",
       "      <td>baltihe01</td>\n",
       "      <td>1946</td>\n",
       "      <td>1</td>\n",
       "      <td>STB</td>\n",
       "      <td>NBA</td>\n",
       "      <td>58</td>\n",
       "      <td>0</td>\n",
       "      <td>0</td>\n",
       "      <td>138</td>\n",
       "      <td>0</td>\n",
       "      <td>...</td>\n",
       "      <td>0</td>\n",
       "      <td>0</td>\n",
       "      <td>3</td>\n",
       "      <td>10</td>\n",
       "      <td>2</td>\n",
       "      <td>1</td>\n",
       "      <td>0</td>\n",
       "      <td>0</td>\n",
       "      <td>0</td>\n",
       "      <td>NaN</td>\n",
       "    </tr>\n",
       "    <tr>\n",
       "      <th>4</th>\n",
       "      <td>barrjo01</td>\n",
       "      <td>1946</td>\n",
       "      <td>1</td>\n",
       "      <td>STB</td>\n",
       "      <td>NBA</td>\n",
       "      <td>58</td>\n",
       "      <td>0</td>\n",
       "      <td>0</td>\n",
       "      <td>295</td>\n",
       "      <td>0</td>\n",
       "      <td>...</td>\n",
       "      <td>0</td>\n",
       "      <td>0</td>\n",
       "      <td>0</td>\n",
       "      <td>0</td>\n",
       "      <td>0</td>\n",
       "      <td>0</td>\n",
       "      <td>0</td>\n",
       "      <td>0</td>\n",
       "      <td>0</td>\n",
       "      <td>NaN</td>\n",
       "    </tr>\n",
       "  </tbody>\n",
       "</table>\n",
       "<p>5 rows × 42 columns</p>\n",
       "</div>"
      ],
      "text/plain": [
       "    playerID  year  stint tmID lgID  GP  GS  minutes  points  oRebounds  ...   \\\n",
       "0  abramjo01  1946      1  PIT  NBA  47   0        0     527          0  ...    \n",
       "1  aubucch01  1946      1  DTF  NBA  30   0        0      65          0  ...    \n",
       "2  bakerno01  1946      1  CHS  NBA   4   0        0       0          0  ...    \n",
       "3  baltihe01  1946      1  STB  NBA  58   0        0     138          0  ...    \n",
       "4   barrjo01  1946      1  STB  NBA  58   0        0     295          0  ...    \n",
       "\n",
       "   PostBlocks  PostTurnovers  PostPF  PostfgAttempted  PostfgMade  \\\n",
       "0           0              0       0                0           0   \n",
       "1           0              0       0                0           0   \n",
       "2           0              0       0                0           0   \n",
       "3           0              0       3               10           2   \n",
       "4           0              0       0                0           0   \n",
       "\n",
       "   PostftAttempted  PostftMade  PostthreeAttempted  PostthreeMade  note  \n",
       "0                0           0                   0              0   NaN  \n",
       "1                0           0                   0              0   NaN  \n",
       "2                0           0                   0              0   NaN  \n",
       "3                1           0                   0              0   NaN  \n",
       "4                0           0                   0              0   NaN  \n",
       "\n",
       "[5 rows x 42 columns]"
      ]
     },
     "execution_count": 1,
     "metadata": {},
     "output_type": "execute_result"
    }
   ],
   "source": [
    "import pandas as pd\n",
    "\n",
    "data_players = pd.read_csv(\"data/basketball_players.csv\", low_memory=False)\n",
    "data_players.head()"
   ]
  },
  {
   "cell_type": "code",
   "execution_count": 2,
   "metadata": {},
   "outputs": [
    {
     "data": {
      "text/html": [
       "<div>\n",
       "<style scoped>\n",
       "    .dataframe tbody tr th:only-of-type {\n",
       "        vertical-align: middle;\n",
       "    }\n",
       "\n",
       "    .dataframe tbody tr th {\n",
       "        vertical-align: top;\n",
       "    }\n",
       "\n",
       "    .dataframe thead th {\n",
       "        text-align: right;\n",
       "    }\n",
       "</style>\n",
       "<table border=\"1\" class=\"dataframe\">\n",
       "  <thead>\n",
       "    <tr style=\"text-align: right;\">\n",
       "      <th></th>\n",
       "      <th>coachID</th>\n",
       "      <th>year</th>\n",
       "      <th>tmID</th>\n",
       "      <th>lgID</th>\n",
       "      <th>stint</th>\n",
       "      <th>won</th>\n",
       "      <th>lost</th>\n",
       "      <th>post_wins</th>\n",
       "      <th>post_losses</th>\n",
       "    </tr>\n",
       "  </thead>\n",
       "  <tbody>\n",
       "    <tr>\n",
       "      <th>0</th>\n",
       "      <td>johnsne01</td>\n",
       "      <td>1961</td>\n",
       "      <td>PGR</td>\n",
       "      <td>ABL1</td>\n",
       "      <td>1</td>\n",
       "      <td>41.0</td>\n",
       "      <td>40.0</td>\n",
       "      <td>0.0</td>\n",
       "      <td>1.0</td>\n",
       "    </tr>\n",
       "    <tr>\n",
       "      <th>1</th>\n",
       "      <td>auerbre01</td>\n",
       "      <td>1946</td>\n",
       "      <td>WSC</td>\n",
       "      <td>NBA</td>\n",
       "      <td>1</td>\n",
       "      <td>49.0</td>\n",
       "      <td>11.0</td>\n",
       "      <td>2.0</td>\n",
       "      <td>4.0</td>\n",
       "    </tr>\n",
       "    <tr>\n",
       "      <th>2</th>\n",
       "      <td>birchpa01</td>\n",
       "      <td>1946</td>\n",
       "      <td>PIT</td>\n",
       "      <td>NBA</td>\n",
       "      <td>1</td>\n",
       "      <td>15.0</td>\n",
       "      <td>45.0</td>\n",
       "      <td>0.0</td>\n",
       "      <td>0.0</td>\n",
       "    </tr>\n",
       "    <tr>\n",
       "      <th>3</th>\n",
       "      <td>cliffro01</td>\n",
       "      <td>1946</td>\n",
       "      <td>CLR</td>\n",
       "      <td>NBA</td>\n",
       "      <td>2</td>\n",
       "      <td>13.0</td>\n",
       "      <td>10.0</td>\n",
       "      <td>1.0</td>\n",
       "      <td>2.0</td>\n",
       "    </tr>\n",
       "    <tr>\n",
       "      <th>4</th>\n",
       "      <td>cohalne01</td>\n",
       "      <td>1946</td>\n",
       "      <td>NYK</td>\n",
       "      <td>NBA</td>\n",
       "      <td>1</td>\n",
       "      <td>33.0</td>\n",
       "      <td>27.0</td>\n",
       "      <td>2.0</td>\n",
       "      <td>3.0</td>\n",
       "    </tr>\n",
       "  </tbody>\n",
       "</table>\n",
       "</div>"
      ],
      "text/plain": [
       "     coachID  year tmID  lgID  stint   won  lost  post_wins  post_losses\n",
       "0  johnsne01  1961  PGR  ABL1      1  41.0  40.0        0.0          1.0\n",
       "1  auerbre01  1946  WSC   NBA      1  49.0  11.0        2.0          4.0\n",
       "2  birchpa01  1946  PIT   NBA      1  15.0  45.0        0.0          0.0\n",
       "3  cliffro01  1946  CLR   NBA      2  13.0  10.0        1.0          2.0\n",
       "4  cohalne01  1946  NYK   NBA      1  33.0  27.0        2.0          3.0"
      ]
     },
     "execution_count": 2,
     "metadata": {},
     "output_type": "execute_result"
    }
   ],
   "source": [
    "data_coaches = pd.read_csv(\"data/basketball_coaches.csv\")\n",
    "data_coaches.head()"
   ]
  },
  {
   "cell_type": "markdown",
   "metadata": {},
   "source": [
    "Some of the columns, such as stint and lgID, are not needed in this project to achieve the aim. Therefore, I eliminate them by selecting the ones needed."
   ]
  },
  {
   "cell_type": "code",
   "execution_count": 3,
   "metadata": {},
   "outputs": [
    {
     "data": {
      "text/html": [
       "<div>\n",
       "<style scoped>\n",
       "    .dataframe tbody tr th:only-of-type {\n",
       "        vertical-align: middle;\n",
       "    }\n",
       "\n",
       "    .dataframe tbody tr th {\n",
       "        vertical-align: top;\n",
       "    }\n",
       "\n",
       "    .dataframe thead th {\n",
       "        text-align: right;\n",
       "    }\n",
       "</style>\n",
       "<table border=\"1\" class=\"dataframe\">\n",
       "  <thead>\n",
       "    <tr style=\"text-align: right;\">\n",
       "      <th></th>\n",
       "      <th>playerID</th>\n",
       "      <th>year</th>\n",
       "      <th>tmID</th>\n",
       "      <th>points</th>\n",
       "    </tr>\n",
       "  </thead>\n",
       "  <tbody>\n",
       "    <tr>\n",
       "      <th>0</th>\n",
       "      <td>abramjo01</td>\n",
       "      <td>1946</td>\n",
       "      <td>PIT</td>\n",
       "      <td>527</td>\n",
       "    </tr>\n",
       "    <tr>\n",
       "      <th>1</th>\n",
       "      <td>aubucch01</td>\n",
       "      <td>1946</td>\n",
       "      <td>DTF</td>\n",
       "      <td>65</td>\n",
       "    </tr>\n",
       "    <tr>\n",
       "      <th>2</th>\n",
       "      <td>bakerno01</td>\n",
       "      <td>1946</td>\n",
       "      <td>CHS</td>\n",
       "      <td>0</td>\n",
       "    </tr>\n",
       "    <tr>\n",
       "      <th>3</th>\n",
       "      <td>baltihe01</td>\n",
       "      <td>1946</td>\n",
       "      <td>STB</td>\n",
       "      <td>138</td>\n",
       "    </tr>\n",
       "    <tr>\n",
       "      <th>4</th>\n",
       "      <td>barrjo01</td>\n",
       "      <td>1946</td>\n",
       "      <td>STB</td>\n",
       "      <td>295</td>\n",
       "    </tr>\n",
       "  </tbody>\n",
       "</table>\n",
       "</div>"
      ],
      "text/plain": [
       "    playerID  year tmID  points\n",
       "0  abramjo01  1946  PIT     527\n",
       "1  aubucch01  1946  DTF      65\n",
       "2  bakerno01  1946  CHS       0\n",
       "3  baltihe01  1946  STB     138\n",
       "4   barrjo01  1946  STB     295"
      ]
     },
     "execution_count": 3,
     "metadata": {},
     "output_type": "execute_result"
    }
   ],
   "source": [
    "data_players = data_players[[\"playerID\", \"year\", \"tmID\", \"points\"]]\n",
    "data_players.head()"
   ]
  },
  {
   "cell_type": "code",
   "execution_count": 4,
   "metadata": {},
   "outputs": [
    {
     "data": {
      "text/html": [
       "<div>\n",
       "<style scoped>\n",
       "    .dataframe tbody tr th:only-of-type {\n",
       "        vertical-align: middle;\n",
       "    }\n",
       "\n",
       "    .dataframe tbody tr th {\n",
       "        vertical-align: top;\n",
       "    }\n",
       "\n",
       "    .dataframe thead th {\n",
       "        text-align: right;\n",
       "    }\n",
       "</style>\n",
       "<table border=\"1\" class=\"dataframe\">\n",
       "  <thead>\n",
       "    <tr style=\"text-align: right;\">\n",
       "      <th></th>\n",
       "      <th>coachID</th>\n",
       "      <th>year</th>\n",
       "      <th>tmID</th>\n",
       "      <th>won</th>\n",
       "    </tr>\n",
       "  </thead>\n",
       "  <tbody>\n",
       "    <tr>\n",
       "      <th>0</th>\n",
       "      <td>johnsne01</td>\n",
       "      <td>1961</td>\n",
       "      <td>PGR</td>\n",
       "      <td>41.0</td>\n",
       "    </tr>\n",
       "    <tr>\n",
       "      <th>1</th>\n",
       "      <td>auerbre01</td>\n",
       "      <td>1946</td>\n",
       "      <td>WSC</td>\n",
       "      <td>49.0</td>\n",
       "    </tr>\n",
       "    <tr>\n",
       "      <th>2</th>\n",
       "      <td>birchpa01</td>\n",
       "      <td>1946</td>\n",
       "      <td>PIT</td>\n",
       "      <td>15.0</td>\n",
       "    </tr>\n",
       "    <tr>\n",
       "      <th>3</th>\n",
       "      <td>cliffro01</td>\n",
       "      <td>1946</td>\n",
       "      <td>CLR</td>\n",
       "      <td>13.0</td>\n",
       "    </tr>\n",
       "    <tr>\n",
       "      <th>4</th>\n",
       "      <td>cohalne01</td>\n",
       "      <td>1946</td>\n",
       "      <td>NYK</td>\n",
       "      <td>33.0</td>\n",
       "    </tr>\n",
       "  </tbody>\n",
       "</table>\n",
       "</div>"
      ],
      "text/plain": [
       "     coachID  year tmID   won\n",
       "0  johnsne01  1961  PGR  41.0\n",
       "1  auerbre01  1946  WSC  49.0\n",
       "2  birchpa01  1946  PIT  15.0\n",
       "3  cliffro01  1946  CLR  13.0\n",
       "4  cohalne01  1946  NYK  33.0"
      ]
     },
     "execution_count": 4,
     "metadata": {},
     "output_type": "execute_result"
    }
   ],
   "source": [
    "data_coaches = data_coaches[[\"coachID\", \"year\", \"tmID\", \"won\"]]\n",
    "data_coaches.head()"
   ]
  },
  {
   "cell_type": "markdown",
   "metadata": {},
   "source": [
    "Then, I group the selected data of NBA players by year and team ID for being able to find the average scores of teams per year. "
   ]
  },
  {
   "cell_type": "code",
   "execution_count": 5,
   "metadata": {},
   "outputs": [
    {
     "data": {
      "text/html": [
       "<div>\n",
       "<style scoped>\n",
       "    .dataframe tbody tr th:only-of-type {\n",
       "        vertical-align: middle;\n",
       "    }\n",
       "\n",
       "    .dataframe tbody tr th {\n",
       "        vertical-align: top;\n",
       "    }\n",
       "\n",
       "    .dataframe thead th {\n",
       "        text-align: right;\n",
       "    }\n",
       "</style>\n",
       "<table border=\"1\" class=\"dataframe\">\n",
       "  <thead>\n",
       "    <tr style=\"text-align: right;\">\n",
       "      <th></th>\n",
       "      <th></th>\n",
       "      <th>year</th>\n",
       "      <th>tmID</th>\n",
       "      <th>points</th>\n",
       "    </tr>\n",
       "    <tr>\n",
       "      <th>year</th>\n",
       "      <th>tmID</th>\n",
       "      <th></th>\n",
       "      <th></th>\n",
       "      <th></th>\n",
       "    </tr>\n",
       "  </thead>\n",
       "  <tbody>\n",
       "    <tr>\n",
       "      <th rowspan=\"5\" valign=\"top\">1937</th>\n",
       "      <th>AFS</th>\n",
       "      <td>1937</td>\n",
       "      <td>AFS</td>\n",
       "      <td>61.909091</td>\n",
       "    </tr>\n",
       "    <tr>\n",
       "      <th>AGW</th>\n",
       "      <td>1937</td>\n",
       "      <td>AGW</td>\n",
       "      <td>53.750000</td>\n",
       "    </tr>\n",
       "    <tr>\n",
       "      <th>BFB</th>\n",
       "      <td>1937</td>\n",
       "      <td>BFB</td>\n",
       "      <td>26.200000</td>\n",
       "    </tr>\n",
       "    <tr>\n",
       "      <th>CNC</th>\n",
       "      <td>1937</td>\n",
       "      <td>CNC</td>\n",
       "      <td>20.153846</td>\n",
       "    </tr>\n",
       "    <tr>\n",
       "      <th>COL</th>\n",
       "      <td>1937</td>\n",
       "      <td>COL</td>\n",
       "      <td>20.142857</td>\n",
       "    </tr>\n",
       "  </tbody>\n",
       "</table>\n",
       "</div>"
      ],
      "text/plain": [
       "           year tmID     points\n",
       "year tmID                      \n",
       "1937 AFS   1937  AFS  61.909091\n",
       "     AGW   1937  AGW  53.750000\n",
       "     BFB   1937  BFB  26.200000\n",
       "     CNC   1937  CNC  20.153846\n",
       "     COL   1937  COL  20.142857"
      ]
     },
     "execution_count": 5,
     "metadata": {},
     "output_type": "execute_result"
    }
   ],
   "source": [
    "data_points = data_players.groupby([\"year\", \"tmID\"]).agg({\"points\": \"mean\"})\n",
    "data_points.head()"
   ]
  },
  {
   "cell_type": "markdown",
   "metadata": {},
   "source": [
    "Here is the final sizes of both data as row and column numbers respectively:"
   ]
  },
  {
   "cell_type": "code",
   "execution_count": 6,
   "metadata": {},
   "outputs": [
    {
     "data": {
      "text/plain": [
       "(1689, 4)"
      ]
     },
     "execution_count": 6,
     "metadata": {},
     "output_type": "execute_result"
    }
   ],
   "source": [
    "data_coaches.shape"
   ]
  },
  {
   "cell_type": "code",
   "execution_count": 7,
   "metadata": {},
   "outputs": [
    {
     "data": {
      "text/plain": [
       "(1536, 3)"
      ]
     },
     "execution_count": 7,
     "metadata": {},
     "output_type": "execute_result"
    }
   ],
   "source": [
    "data_points.shape"
   ]
  },
  {
   "cell_type": "markdown",
   "metadata": {},
   "source": [
    "Furthermore, information on columns for number of games won and average scores of teams can be seen below:"
   ]
  },
  {
   "cell_type": "code",
   "execution_count": 8,
   "metadata": {},
   "outputs": [
    {
     "data": {
      "text/plain": [
       "count    1680.000000\n",
       "mean       33.298214\n",
       "std        17.011148\n",
       "min         0.000000\n",
       "25%        20.000000\n",
       "50%        36.000000\n",
       "75%        46.000000\n",
       "max        72.000000\n",
       "Name: won, dtype: float64"
      ]
     },
     "execution_count": 8,
     "metadata": {},
     "output_type": "execute_result"
    }
   ],
   "source": [
    "data_coaches.describe()[\"won\"]"
   ]
  },
  {
   "cell_type": "code",
   "execution_count": 9,
   "metadata": {},
   "outputs": [
    {
     "data": {
      "text/plain": [
       "count    1536.000000\n",
       "mean      502.991128\n",
       "std       173.386425\n",
       "min        13.444444\n",
       "25%       430.675641\n",
       "50%       521.385417\n",
       "75%       614.946429\n",
       "max       922.090909\n",
       "Name: points, dtype: float64"
      ]
     },
     "execution_count": 9,
     "metadata": {},
     "output_type": "execute_result"
    }
   ],
   "source": [
    "data_points.describe()[\"points\"]"
   ]
  },
  {
   "cell_type": "markdown",
   "metadata": {},
   "source": [
    "In order to understand the data better, there are some visualizations below."
   ]
  },
  {
   "cell_type": "code",
   "execution_count": 10,
   "metadata": {},
   "outputs": [
    {
     "data": {
      "text/plain": [
       "<matplotlib.axes._subplots.AxesSubplot at 0x1b45a762eb8>"
      ]
     },
     "execution_count": 10,
     "metadata": {},
     "output_type": "execute_result"
    },
    {
     "data": {
      "image/png": "[encoded data removed]",
      "text/plain": [
       "<Figure size 1440x360 with 1 Axes>"
      ]
     },
     "metadata": {},
     "output_type": "display_data"
    }
   ],
   "source": [
    "import matplotlib as plt\n",
    "\n",
    "# Bar plot illustrating all teams and average scores of their players in 1962\n",
    "data_points[data_points.year == 1962].plot(kind=\"bar\", x=\"tmID\", y=\"points\")"
   ]
  },
  {
   "cell_type": "code",
   "execution_count": 8,
   "metadata": {},
   "outputs": [
    {
     "data": {
      "text/plain": [
       "<matplotlib.axes._subplots.AxesSubplot at 0x1b45a611b70>"
      ]
     },
     "execution_count": 8,
     "metadata": {},
     "output_type": "execute_result"
    },
    {
     "data": {
      "image/png": "[encoded data removed]",
      "text/plain": [
       "<Figure size 1440x360 with 1 Axes>"
      ]
     },
     "metadata": {},
     "output_type": "display_data"
    }
   ],
   "source": [
    "# Bar plot illustrating all coaches of Boston Celtics and number of games won by each of them\n",
    "plt.rcParams[\"figure.figsize\"] = (20,5)\n",
    "data_coaches[data_coaches.tmID == \"BOS\"].plot(kind=\"bar\", x=\"coachID\", y=\"won\")"
   ]
  },
  {
   "cell_type": "code",
   "execution_count": 9,
   "metadata": {},
   "outputs": [
    {
     "data": {
      "text/plain": [
       "<matplotlib.axes._subplots.AxesSubplot at 0x1b45997e5f8>"
      ]
     },
     "execution_count": 9,
     "metadata": {},
     "output_type": "execute_result"
    },
    {
     "data": {
      "image/png": "[encoded data removed]",
      "text/plain": [
       "<Figure size 1440x360 with 1 Axes>"
      ]
     },
     "metadata": {},
     "output_type": "display_data"
    }
   ],
   "source": [
    "# Bar plot illustrating average scores of New York Knicks players per year\n",
    "data_points[data_points.tmID == \"NYK\"].plot(kind=\"bar\", x=\"year\", y=\"points\")"
   ]
  },
  {
   "cell_type": "markdown",
   "metadata": {},
   "source": [
    "Beside those plots, histogram of number of games won by coaches is shown below with the aim of illustrating frequencies."
   ]
  },
  {
   "cell_type": "code",
   "execution_count": 13,
   "metadata": {},
   "outputs": [
    {
     "name": "stderr",
     "output_type": "stream",
     "text": [
      "No handles with labels found to put in legend.\n"
     ]
    },
    {
     "data": {
      "image/png": "[encoded data removed]",
      "text/plain": [
       "<Figure size 1440x360 with 1 Axes>"
      ]
     },
     "metadata": {},
     "output_type": "display_data"
    }
   ],
   "source": [
    "import lib.thinkstats2, lib.thinkplot\n",
    "\n",
    "hist_coaches = lib.thinkstats2.Hist(data_coaches.won)\n",
    "lib.thinkplot.Hist(hist_coaches)\n",
    "lib.thinkplot.Config(title=\"Histogram\", xlabel=\"Games Won\", ylabel=\"Frequency\")"
   ]
  },
  {
   "cell_type": "markdown",
   "metadata": {},
   "source": [
    "PMF (probability mass function) and CDF (cumulative distribution function) of average scores of players are shown below as well, it seems that the density of the data is greater between the interval of 400 to 600."
   ]
  },
  {
   "cell_type": "code",
   "execution_count": 17,
   "metadata": {},
   "outputs": [
    {
     "name": "stderr",
     "output_type": "stream",
     "text": [
      "No handles with labels found to put in legend.\n"
     ]
    },
    {
     "data": {
      "image/png": "[encoded data removed]",
      "text/plain": [
       "<Figure size 1440x360 with 1 Axes>"
      ]
     },
     "metadata": {},
     "output_type": "display_data"
    }
   ],
   "source": [
    "pmf_points = lib.thinkstats2.Pmf(data_points.points)\n",
    "lib.thinkplot.Pmf(pmf_points)\n",
    "lib.thinkplot.Config(title=\"PMF\", xlabel=\"Average Scores\")"
   ]
  },
  {
   "cell_type": "code",
   "execution_count": 16,
   "metadata": {},
   "outputs": [
    {
     "name": "stderr",
     "output_type": "stream",
     "text": [
      "No handles with labels found to put in legend.\n"
     ]
    },
    {
     "data": {
      "image/png": "[encoded data removed]",
      "text/plain": [
       "<Figure size 1440x360 with 1 Axes>"
      ]
     },
     "metadata": {},
     "output_type": "display_data"
    }
   ],
   "source": [
    "cdf_points = lib.thinkstats2.Cdf(data_points.points)\n",
    "lib.thinkplot.Cdf(cdf_points)\n",
    "lib.thinkplot.Config(title=\"CDF\", xlabel=\"Average Scores\")"
   ]
  },
  {
   "cell_type": "markdown",
   "metadata": {},
   "source": [
    "I merge those datasets into a single one on multiple columns by using the inner method for being able to analyse the relationship."
   ]
  },
  {
   "cell_type": "code",
   "execution_count": 7,
   "metadata": {},
   "outputs": [
    {
     "data": {
      "text/html": [
       "<div>\n",
       "<style scoped>\n",
       "    .dataframe tbody tr th:only-of-type {\n",
       "        vertical-align: middle;\n",
       "    }\n",
       "\n",
       "    .dataframe tbody tr th {\n",
       "        vertical-align: top;\n",
       "    }\n",
       "\n",
       "    .dataframe thead th {\n",
       "        text-align: right;\n",
       "    }\n",
       "</style>\n",
       "<table border=\"1\" class=\"dataframe\">\n",
       "  <thead>\n",
       "    <tr style=\"text-align: right;\">\n",
       "      <th></th>\n",
       "      <th>coachID</th>\n",
       "      <th>year</th>\n",
       "      <th>tmID</th>\n",
       "      <th>won</th>\n",
       "      <th>points</th>\n",
       "    </tr>\n",
       "  </thead>\n",
       "  <tbody>\n",
       "    <tr>\n",
       "      <th>0</th>\n",
       "      <td>johnsne01</td>\n",
       "      <td>1961</td>\n",
       "      <td>PGR</td>\n",
       "      <td>41.0</td>\n",
       "      <td>434.400000</td>\n",
       "    </tr>\n",
       "    <tr>\n",
       "      <th>1</th>\n",
       "      <td>auerbre01</td>\n",
       "      <td>1946</td>\n",
       "      <td>WSC</td>\n",
       "      <td>49.0</td>\n",
       "      <td>316.285714</td>\n",
       "    </tr>\n",
       "    <tr>\n",
       "      <th>2</th>\n",
       "      <td>birchpa01</td>\n",
       "      <td>1946</td>\n",
       "      <td>PIT</td>\n",
       "      <td>15.0</td>\n",
       "      <td>216.117647</td>\n",
       "    </tr>\n",
       "    <tr>\n",
       "      <th>3</th>\n",
       "      <td>cliffro01</td>\n",
       "      <td>1946</td>\n",
       "      <td>CLR</td>\n",
       "      <td>13.0</td>\n",
       "      <td>236.166667</td>\n",
       "    </tr>\n",
       "    <tr>\n",
       "      <th>4</th>\n",
       "      <td>dehnere01</td>\n",
       "      <td>1946</td>\n",
       "      <td>CLR</td>\n",
       "      <td>17.0</td>\n",
       "      <td>236.166667</td>\n",
       "    </tr>\n",
       "  </tbody>\n",
       "</table>\n",
       "</div>"
      ],
      "text/plain": [
       "     coachID  year tmID   won      points\n",
       "0  johnsne01  1961  PGR  41.0  434.400000\n",
       "1  auerbre01  1946  WSC  49.0  316.285714\n",
       "2  birchpa01  1946  PIT  15.0  216.117647\n",
       "3  cliffro01  1946  CLR  13.0  236.166667\n",
       "4  dehnere01  1946  CLR  17.0  236.166667"
      ]
     },
     "execution_count": 7,
     "metadata": {},
     "output_type": "execute_result"
    }
   ],
   "source": [
    "data_merged = pd.merge(data_coaches, data_points, how=\"inner\", left_on=[\"year\", \"tmID\"], right_on=[\"year\", \"tmID\"])\n",
    "data_merged.head()"
   ]
  },
  {
   "cell_type": "code",
   "execution_count": 25,
   "metadata": {},
   "outputs": [
    {
     "data": {
      "text/plain": [
       "(1689, 5)"
      ]
     },
     "execution_count": 25,
     "metadata": {},
     "output_type": "execute_result"
    }
   ],
   "source": [
    "data_merged.shape"
   ]
  },
  {
   "cell_type": "markdown",
   "metadata": {},
   "source": [
    "After merging the data, I apply a regression method called least squares in order to measure the goodness of fit."
   ]
  },
  {
   "cell_type": "code",
   "execution_count": 11,
   "metadata": {},
   "outputs": [
    {
     "data": {
      "text/html": [
       "<table class=\"simpletable\">\n",
       "<caption>OLS Regression Results</caption>\n",
       "<tr>\n",
       "  <th>Dep. Variable:</th>           <td>won</td>       <th>  R-squared:         </th> <td>   0.183</td> \n",
       "</tr>\n",
       "<tr>\n",
       "  <th>Model:</th>                   <td>OLS</td>       <th>  Adj. R-squared:    </th> <td>   0.183</td> \n",
       "</tr>\n",
       "<tr>\n",
       "  <th>Method:</th>             <td>Least Squares</td>  <th>  F-statistic:       </th> <td>   377.0</td> \n",
       "</tr>\n",
       "<tr>\n",
       "  <th>Date:</th>             <td>Sat, 09 Jun 2018</td> <th>  Prob (F-statistic):</th> <td>6.35e-76</td> \n",
       "</tr>\n",
       "<tr>\n",
       "  <th>Time:</th>                 <td>00:51:12</td>     <th>  Log-Likelihood:    </th> <td> -6974.0</td> \n",
       "</tr>\n",
       "<tr>\n",
       "  <th>No. Observations:</th>      <td>  1680</td>      <th>  AIC:               </th> <td>1.395e+04</td>\n",
       "</tr>\n",
       "<tr>\n",
       "  <th>Df Residuals:</th>          <td>  1678</td>      <th>  BIC:               </th> <td>1.396e+04</td>\n",
       "</tr>\n",
       "<tr>\n",
       "  <th>Df Model:</th>              <td>     1</td>      <th>                     </th>     <td> </td>    \n",
       "</tr>\n",
       "<tr>\n",
       "  <th>Covariance Type:</th>      <td>nonrobust</td>    <th>                     </th>     <td> </td>    \n",
       "</tr>\n",
       "</table>\n",
       "<table class=\"simpletable\">\n",
       "<tr>\n",
       "      <td></td>         <th>coef</th>     <th>std err</th>      <th>t</th>      <th>P>|t|</th>  <th>[0.025</th>    <th>0.975]</th>  \n",
       "</tr>\n",
       "<tr>\n",
       "  <th>Intercept</th> <td>    6.2636</td> <td>    1.442</td> <td>    4.344</td> <td> 0.000</td> <td>    3.435</td> <td>    9.092</td>\n",
       "</tr>\n",
       "<tr>\n",
       "  <th>points</th>    <td>    0.0515</td> <td>    0.003</td> <td>   19.417</td> <td> 0.000</td> <td>    0.046</td> <td>    0.057</td>\n",
       "</tr>\n",
       "</table>\n",
       "<table class=\"simpletable\">\n",
       "<tr>\n",
       "  <th>Omnibus:</th>       <td>49.420</td> <th>  Durbin-Watson:     </th> <td>   1.521</td>\n",
       "</tr>\n",
       "<tr>\n",
       "  <th>Prob(Omnibus):</th> <td> 0.000</td> <th>  Jarque-Bera (JB):  </th> <td>  40.838</td>\n",
       "</tr>\n",
       "<tr>\n",
       "  <th>Skew:</th>          <td>-0.307</td> <th>  Prob(JB):          </th> <td>1.36e-09</td>\n",
       "</tr>\n",
       "<tr>\n",
       "  <th>Kurtosis:</th>      <td> 2.547</td> <th>  Cond. No.          </th> <td>2.09e+03</td>\n",
       "</tr>\n",
       "</table><br/><br/>Warnings:<br/>[1] Standard Errors assume that the covariance matrix of the errors is correctly specified.<br/>[2] The condition number is large, 2.09e+03. This might indicate that there are<br/>strong multicollinearity or other numerical problems."
      ],
      "text/plain": [
       "<class 'statsmodels.iolib.summary.Summary'>\n",
       "\"\"\"\n",
       "                            OLS Regression Results                            \n",
       "==============================================================================\n",
       "Dep. Variable:                    won   R-squared:                       0.183\n",
       "Model:                            OLS   Adj. R-squared:                  0.183\n",
       "Method:                 Least Squares   F-statistic:                     377.0\n",
       "Date:                Sat, 09 Jun 2018   Prob (F-statistic):           6.35e-76\n",
       "Time:                        00:51:12   Log-Likelihood:                -6974.0\n",
       "No. Observations:                1680   AIC:                         1.395e+04\n",
       "Df Residuals:                    1678   BIC:                         1.396e+04\n",
       "Df Model:                           1                                         \n",
       "Covariance Type:            nonrobust                                         \n",
       "==============================================================================\n",
       "                 coef    std err          t      P>|t|      [0.025      0.975]\n",
       "------------------------------------------------------------------------------\n",
       "Intercept      6.2636      1.442      4.344      0.000       3.435       9.092\n",
       "points         0.0515      0.003     19.417      0.000       0.046       0.057\n",
       "==============================================================================\n",
       "Omnibus:                       49.420   Durbin-Watson:                   1.521\n",
       "Prob(Omnibus):                  0.000   Jarque-Bera (JB):               40.838\n",
       "Skew:                          -0.307   Prob(JB):                     1.36e-09\n",
       "Kurtosis:                       2.547   Cond. No.                     2.09e+03\n",
       "==============================================================================\n",
       "\n",
       "Warnings:\n",
       "[1] Standard Errors assume that the covariance matrix of the errors is correctly specified.\n",
       "[2] The condition number is large, 2.09e+03. This might indicate that there are\n",
       "strong multicollinearity or other numerical problems.\n",
       "\"\"\""
      ]
     },
     "execution_count": 11,
     "metadata": {},
     "output_type": "execute_result"
    }
   ],
   "source": [
    "import statsmodels.formula.api as smf\n",
    "\n",
    "formula = \"won ~ points\" # Number of games won as dependent, average scores as explanatory variable\n",
    "model = smf.ols(formula, data=data_merged)\n",
    "result = model.fit()\n",
    "result.summary()"
   ]
  },
  {
   "cell_type": "markdown",
   "metadata": {},
   "source": [
    "As is seen, R-squared is around 18% while P-value (P>|t|) seems to be either zero or too close to zero.\n",
    "\n",
    "Thereby, it is possible to say that average scores of players make 18% variance in number of games won. Plus, P-value is smaller than the traditional threshold (5%) which indicates that the effect of average scores is statistically significant, unlikely to occur by chance in other words.\n",
    "\n",
    "The regression line fits the data reasonably well."
   ]
  },
  {
   "cell_type": "code",
   "execution_count": 12,
   "metadata": {},
   "outputs": [
    {
     "data": {
      "text/html": [
       "<div>\n",
       "<style scoped>\n",
       "    .dataframe tbody tr th:only-of-type {\n",
       "        vertical-align: middle;\n",
       "    }\n",
       "\n",
       "    .dataframe tbody tr th {\n",
       "        vertical-align: top;\n",
       "    }\n",
       "\n",
       "    .dataframe thead th {\n",
       "        text-align: right;\n",
       "    }\n",
       "</style>\n",
       "<table border=\"1\" class=\"dataframe\">\n",
       "  <thead>\n",
       "    <tr style=\"text-align: right;\">\n",
       "      <th></th>\n",
       "      <th>won</th>\n",
       "      <th>points</th>\n",
       "    </tr>\n",
       "  </thead>\n",
       "  <tbody>\n",
       "    <tr>\n",
       "      <th>won</th>\n",
       "      <td>1.00000</td>\n",
       "      <td>0.42833</td>\n",
       "    </tr>\n",
       "    <tr>\n",
       "      <th>points</th>\n",
       "      <td>0.42833</td>\n",
       "      <td>1.00000</td>\n",
       "    </tr>\n",
       "  </tbody>\n",
       "</table>\n",
       "</div>"
      ],
      "text/plain": [
       "            won   points\n",
       "won     1.00000  0.42833\n",
       "points  0.42833  1.00000"
      ]
     },
     "execution_count": 12,
     "metadata": {},
     "output_type": "execute_result"
    }
   ],
   "source": [
    "cols = data_merged[[\"won\", \"points\"]]\n",
    "corr = cols.corr()\n",
    "corr"
   ]
  },
  {
   "cell_type": "markdown",
   "metadata": {},
   "source": [
    "How about the correlation of number of games won and average scores of teams? \n",
    "\n",
    "According to the table above, they move in tandem sicne their correlation is between 0 and 1.\n",
    "\n",
    "To sum up, my hypothesis reaches the conclusion of that average scores of players positively relates to number of games won by coaches."
   ]
  }
 ],
 "metadata": {
  "kernelspec": {
   "display_name": "Python 3",
   "language": "python",
   "name": "python3"
  },
  "language_info": {
   "codemirror_mode": {
    "name": "ipython",
    "version": 3
   },
   "file_extension": ".py",
   "mimetype": "text/x-python",
   "name": "python",
   "nbconvert_exporter": "python",
   "pygments_lexer": "ipython3",
   "version": "3.6.5"
  }
 },
 "nbformat": 4,
 "nbformat_minor": 2
}
